{
 "cells": [
  {
   "cell_type": "markdown",
   "metadata": {},
   "source": [
    "# WEB SCRAPING\n",
    "\n",
    "<p align = \"justify\">\n",
    "    This project is about web scraping using this two python library: Selenium and Openyxl.\n",
    "    Follow these steps bello.\n",
    "</p>"
   ]
  },
  {
   "cell_type": "markdown",
   "metadata": {},
   "source": [
    "### STEP 1: requirements"
   ]
  },
  {
   "cell_type": "code",
   "execution_count": 43,
   "metadata": {},
   "outputs": [
    {
     "name": "stdout",
     "output_type": "stream",
     "text": [
      "Defaulting to user installation because normal site-packages is not writeable\n",
      "Requirement already satisfied: selenium in /home/gumeta/.local/lib/python3.10/site-packages (4.14.0)\n",
      "Requirement already satisfied: openpyxl in /home/gumeta/.local/lib/python3.10/site-packages (3.1.2)\n",
      "Requirement already satisfied: trio~=0.17 in /home/gumeta/.local/lib/python3.10/site-packages (from selenium) (0.22.2)\n",
      "Requirement already satisfied: urllib3[socks]<3,>=1.26 in /usr/lib/python3/dist-packages (from selenium) (1.26.5)\n",
      "Requirement already satisfied: certifi>=2021.10.8 in /home/gumeta/.local/lib/python3.10/site-packages (from selenium) (2023.7.22)\n",
      "Requirement already satisfied: trio-websocket~=0.9 in /home/gumeta/.local/lib/python3.10/site-packages (from selenium) (0.11.1)\n",
      "Requirement already satisfied: et-xmlfile in /home/gumeta/.local/lib/python3.10/site-packages (from openpyxl) (1.1.0)\n",
      "Requirement already satisfied: attrs>=20.1.0 in /home/gumeta/.local/lib/python3.10/site-packages (from trio~=0.17->selenium) (23.1.0)\n",
      "Requirement already satisfied: sortedcontainers in /home/gumeta/.local/lib/python3.10/site-packages (from trio~=0.17->selenium) (2.4.0)\n",
      "Requirement already satisfied: sniffio in /home/gumeta/.local/lib/python3.10/site-packages (from trio~=0.17->selenium) (1.3.0)\n",
      "Requirement already satisfied: exceptiongroup>=1.0.0rc9 in /home/gumeta/.local/lib/python3.10/site-packages (from trio~=0.17->selenium) (1.1.3)\n",
      "Requirement already satisfied: idna in /usr/lib/python3/dist-packages (from trio~=0.17->selenium) (3.3)\n",
      "Requirement already satisfied: outcome in /home/gumeta/.local/lib/python3.10/site-packages (from trio~=0.17->selenium) (1.3.0)\n",
      "Requirement already satisfied: wsproto>=0.14 in /home/gumeta/.local/lib/python3.10/site-packages (from trio-websocket~=0.9->selenium) (1.2.0)\n",
      "Requirement already satisfied: PySocks!=1.5.7,<2.0,>=1.5.6 in /home/gumeta/.local/lib/python3.10/site-packages (from urllib3[socks]<3,>=1.26->selenium) (1.7.1)\n",
      "Requirement already satisfied: h11<1,>=0.9.0 in /home/gumeta/.local/lib/python3.10/site-packages (from wsproto>=0.14->trio-websocket~=0.9->selenium) (0.14.0)\n"
     ]
    }
   ],
   "source": [
    "!pip3 install selenium openpyxl"
   ]
  },
  {
   "cell_type": "code",
   "execution_count": 44,
   "metadata": {},
   "outputs": [],
   "source": [
    "# Simula o uso do navegador\n",
    "from selenium import webdriver\n",
    "\n",
    "# Permite encontrar informações dentro de sites\n",
    "from selenium.webdriver.common.by import By\n",
    "\n",
    "# Permite criar planilhas\n",
    "import openpyxl"
   ]
  },
  {
   "cell_type": "markdown",
   "metadata": {},
   "source": [
    "### STEP 2: Development"
   ]
  },
  {
   "cell_type": "code",
   "execution_count": 52,
   "metadata": {},
   "outputs": [],
   "source": [
    "# Abrindo o navegador e o site\n",
    "    # Inicializando o navegador pelo webdriver.\n",
    "    # Estou utilizando o navegador Chrome (por isso webdriver.Chrome())\n",
    "    # Entrarei na seguinte loja: \n",
    "\n",
    "driver = webdriver.Chrome()\n",
    "driver.get('https://www.kabum.com.br/computadores/monitores/monitor-gamer')\n",
    "\n",
    "# Coletando os dados\n",
    "    # xpath é uma forma de encontrar elementos dentro de um site\n",
    "    # xpath strucutre = //tag[@attribute='value']\n",
    "    # Title xpath = //span[@class='sc-d79c9c3f-0 nlmfp sc-93fa31de-16 bBOYrL nameCard']\n",
    "    # Price xpath = //span[@class='sc-6889e656-2 bYcXfg priceCard']\n",
    "\n",
    "titles = driver.find_elements(By.XPATH,\"//span[@class='sc-d79c9c3f-0 nlmfp sc-93fa31de-16 bBOYrL nameCard']\")\n",
    "promotional_prices = driver.find_elements(By.XPATH,\"//span[@class='sc-6889e656-2 bYcXfg priceCard']\")\n",
    "\n",
    "\n",
    "\n",
    "# Criando a planilha\n",
    "planilha = openpyxl.Workbook()\n",
    "\n",
    "# Criando a página 'produtos'\n",
    "planilha.create_sheet('produtos')\n",
    "\n",
    "# Selecionando a página 'produtos' e inserindo os rótulos (cabeçalhos)\n",
    "sheet_produtos = planilha['produtos']\n",
    "sheet_produtos['A1'].value = 'PRODUTO'\n",
    "sheet_produtos['B1'].value = 'PREÇO PROMOCIONAL'\n",
    "\n",
    "# Inserindo os dados na planilha (somente tuplas de nome, preço com valors diferentes de null para manter consistência)\n",
    "for title, price in zip(titles, promotional_prices):\n",
    "    sheet_produtos.append([title.text, price.text])\n",
    "\n",
    "planilha.save('database.xlsx')\n",
    "\n"
   ]
  }
 ],
 "metadata": {
  "kernelspec": {
   "display_name": "Python 3",
   "language": "python",
   "name": "python3"
  },
  "language_info": {
   "codemirror_mode": {
    "name": "ipython",
    "version": 3
   },
   "file_extension": ".py",
   "mimetype": "text/x-python",
   "name": "python",
   "nbconvert_exporter": "python",
   "pygments_lexer": "ipython3",
   "version": "3.10.12"
  }
 },
 "nbformat": 4,
 "nbformat_minor": 2
}

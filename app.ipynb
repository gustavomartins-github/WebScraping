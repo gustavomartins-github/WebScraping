{
 "cells": [
  {
   "cell_type": "markdown",
   "metadata": {},
   "source": [
    "# WEB SCRAPING\n",
    "\n",
    "<p align = \"justify\">\n",
    "    This project is about web scraping using this two python library: Selenium and Openyxl.\n",
    "    Follow these steps bello.\n",
    "</p>"
   ]
  },
  {
   "cell_type": "markdown",
   "metadata": {},
   "source": [
    "### STEP 1: requirements"
   ]
  },
  {
   "cell_type": "code",
   "execution_count": 1,
   "metadata": {},
   "outputs": [
    {
     "name": "stdout",
     "output_type": "stream",
     "text": [
      "Defaulting to user installation because normal site-packages is not writeable\n",
      "Requirement already satisfied: selenium in /home/gumeta/.local/lib/python3.10/site-packages (4.14.0)\n",
      "Requirement already satisfied: openpyxl in /home/gumeta/.local/lib/python3.10/site-packages (3.1.2)\n",
      "Requirement already satisfied: plotly_express in /home/gumeta/.local/lib/python3.10/site-packages (0.4.1)\n",
      "Requirement already satisfied: trio-websocket~=0.9 in /home/gumeta/.local/lib/python3.10/site-packages (from selenium) (0.11.1)\n",
      "Requirement already satisfied: trio~=0.17 in /home/gumeta/.local/lib/python3.10/site-packages (from selenium) (0.22.2)\n",
      "Requirement already satisfied: certifi>=2021.10.8 in /home/gumeta/.local/lib/python3.10/site-packages (from selenium) (2023.7.22)\n",
      "Requirement already satisfied: urllib3[socks]<3,>=1.26 in /usr/lib/python3/dist-packages (from selenium) (1.26.5)\n",
      "Requirement already satisfied: et-xmlfile in /home/gumeta/.local/lib/python3.10/site-packages (from openpyxl) (1.1.0)\n",
      "Requirement already satisfied: scipy>=0.18 in /home/gumeta/.local/lib/python3.10/site-packages (from plotly_express) (1.11.2)\n",
      "Requirement already satisfied: plotly>=4.1.0 in /home/gumeta/.local/lib/python3.10/site-packages (from plotly_express) (5.17.0)\n",
      "Requirement already satisfied: numpy>=1.11 in /home/gumeta/.local/lib/python3.10/site-packages (from plotly_express) (1.26.0)\n",
      "Requirement already satisfied: pandas>=0.20.0 in /home/gumeta/.local/lib/python3.10/site-packages (from plotly_express) (2.1.1)\n",
      "Requirement already satisfied: statsmodels>=0.9.0 in /home/gumeta/.local/lib/python3.10/site-packages (from plotly_express) (0.14.0)\n",
      "Requirement already satisfied: patsy>=0.5 in /home/gumeta/.local/lib/python3.10/site-packages (from plotly_express) (0.5.3)\n",
      "Requirement already satisfied: python-dateutil>=2.8.2 in /home/gumeta/.local/lib/python3.10/site-packages (from pandas>=0.20.0->plotly_express) (2.8.2)\n",
      "Requirement already satisfied: tzdata>=2022.1 in /home/gumeta/.local/lib/python3.10/site-packages (from pandas>=0.20.0->plotly_express) (2023.3)\n",
      "Requirement already satisfied: pytz>=2020.1 in /usr/lib/python3/dist-packages (from pandas>=0.20.0->plotly_express) (2022.1)\n",
      "Requirement already satisfied: six in /usr/lib/python3/dist-packages (from patsy>=0.5->plotly_express) (1.16.0)\n",
      "Requirement already satisfied: tenacity>=6.2.0 in /home/gumeta/.local/lib/python3.10/site-packages (from plotly>=4.1.0->plotly_express) (8.2.3)\n",
      "Requirement already satisfied: packaging in /home/gumeta/.local/lib/python3.10/site-packages (from plotly>=4.1.0->plotly_express) (23.1)\n",
      "Requirement already satisfied: attrs>=20.1.0 in /home/gumeta/.local/lib/python3.10/site-packages (from trio~=0.17->selenium) (23.1.0)\n",
      "Requirement already satisfied: outcome in /home/gumeta/.local/lib/python3.10/site-packages (from trio~=0.17->selenium) (1.3.0)\n",
      "Requirement already satisfied: sniffio in /home/gumeta/.local/lib/python3.10/site-packages (from trio~=0.17->selenium) (1.3.0)\n",
      "Requirement already satisfied: idna in /usr/lib/python3/dist-packages (from trio~=0.17->selenium) (3.3)\n",
      "Requirement already satisfied: exceptiongroup>=1.0.0rc9 in /home/gumeta/.local/lib/python3.10/site-packages (from trio~=0.17->selenium) (1.1.3)\n",
      "Requirement already satisfied: sortedcontainers in /home/gumeta/.local/lib/python3.10/site-packages (from trio~=0.17->selenium) (2.4.0)\n",
      "Requirement already satisfied: wsproto>=0.14 in /home/gumeta/.local/lib/python3.10/site-packages (from trio-websocket~=0.9->selenium) (1.2.0)\n",
      "Requirement already satisfied: PySocks!=1.5.7,<2.0,>=1.5.6 in /home/gumeta/.local/lib/python3.10/site-packages (from urllib3[socks]<3,>=1.26->selenium) (1.7.1)\n",
      "Requirement already satisfied: h11<1,>=0.9.0 in /home/gumeta/.local/lib/python3.10/site-packages (from wsproto>=0.14->trio-websocket~=0.9->selenium) (0.14.0)\n",
      "Defaulting to user installation because normal site-packages is not writeable\n",
      "Requirement already satisfied: kaleido in /home/gumeta/.local/lib/python3.10/site-packages (0.2.1)\n"
     ]
    }
   ],
   "source": [
    "!pip3 install selenium openpyxl plotly_express\n",
    "!pip3 install -U kaleido"
   ]
  },
  {
   "cell_type": "code",
   "execution_count": 2,
   "metadata": {},
   "outputs": [],
   "source": [
    "# --------------------------------------------- Web Scraping ---------------------------------------------\n",
    "\n",
    "from selenium import webdriver                  # Simula o uso do navegador\n",
    "from selenium.webdriver.common.by import By     # Permite encontrar informações dentro de sites\n",
    "import openpyxl                                 # Permite criar e manipular planilhas\n",
    "\n",
    "# ---------------------------------------- Análise de Dados (Gráfico) ---------------------------------------\n",
    "\n",
    "import pandas as pd             # Abrir e manipular arquivos em excel\n",
    "import plotly.express as px     # Gerar gráficos interativos\n",
    "import plotly                   # Usado para baixar o gráfico"
   ]
  },
  {
   "cell_type": "markdown",
   "metadata": {},
   "source": [
    "### STEP 2: Creating the database (excel)"
   ]
  },
  {
   "cell_type": "code",
   "execution_count": 3,
   "metadata": {},
   "outputs": [],
   "source": [
    "# ----------------------------------------------- ABRINDO A SITE ----------------------------------------------- #\n",
    "\n",
    "# Abrindo o navegador Chrome e o site\n",
    "    # Inicializando o navegador pelo webdriver.\n",
    "    # Estou utilizando o navegador Chrome (por isso webdriver.Chrome())\n",
    "    # Entrarei na seguinte loja: \n",
    "\n",
    "driver = webdriver.Chrome()\n",
    "driver.get('https://www.kabum.com.br/computadores/monitores/monitor-gamer')\n",
    "\n",
    "# ------------------------------------------- COLETANDO DADOS DA PÁGINA ------------------------------------------- #\n",
    "\n",
    "# Informações sobre a coleta dos dados\n",
    "    # xpath é uma forma de encontrar elementos dentro de um site\n",
    "    # xpath strucutre = //tag[@attribute='value']\n",
    "    # Title xpath = //span[@class='sc-d79c9c3f-0 nlmfp sc-93fa31de-16 bBOYrL nameCard']\n",
    "    # Price xpath = //span[@class='sc-6889e656-2 bYcXfg priceCard']\n",
    "\n",
    "# Coletando os dados utilizando o xpath\n",
    "titles = driver.find_elements(By.XPATH,\"//span[@class='sc-d79c9c3f-0 nlmfp sc-93fa31de-16 bBOYrL nameCard']\")\n",
    "promotional_prices = driver.find_elements(By.XPATH,\"//span[@class='sc-6889e656-2 bYcXfg priceCard']\")\n",
    "\n",
    "# ------------------------------------------- INSERINDO DADOS NA PLANILHA ------------------------------------------- #\n",
    "\n",
    "# Criando a planilha\n",
    "planilha = openpyxl.Workbook()\n",
    "\n",
    "# Criando a página 'produtos'\n",
    "planilha.create_sheet('produtos')\n",
    "\n",
    "# Selecionando a página 'produtos' e inserindo os rótulos (cabeçalhos)\n",
    "sheet_produtos = planilha['produtos']\n",
    "sheet_produtos['A1'].value = 'PRODUTO'\n",
    "sheet_produtos['B1'].value = 'PREÇO PROMOCIONAL'\n",
    "\n",
    "# Inserindo os dados na planilha (somente tuplas de nome, preço com valors diferentes de null para manter consistência)\n",
    "for title, price in zip(titles, promotional_prices):\n",
    "    sheet_produtos.append([title.text, price.text])\n",
    "\n",
    "# Salvando a planilha\n",
    "planilha.save('database.xlsx')\n",
    "\n",
    "# Fechando o navegador\n",
    "driver.quit()\n",
    "\n"
   ]
  },
  {
   "cell_type": "markdown",
   "metadata": {},
   "source": [
    "### STEP 3: Formatting the data"
   ]
  },
  {
   "cell_type": "code",
   "execution_count": 4,
   "metadata": {},
   "outputs": [],
   "source": [
    "# ----------------------------------------------- ABRINDO A PLANILHA ----------------------------------------------- #\n",
    "database = openpyxl.load_workbook('database.xlsx')\n",
    "\n",
    "# Acessando a página 'produtos'\n",
    "sheet_produtos = database['produtos']\n",
    "\n",
    "# ----------------------------------------------- FORMATANDO OS DADOS (PREÇO) ----------------------------------------------- #\n",
    "# Excluindo excesso de informação nos preços\n",
    "for cell in sheet_produtos['B']:\n",
    "    cell.value = cell.value.replace('R$ ', '')  # Excluindo o 'R$ ' pois atrapalha a conversão para float\n",
    "    cell.value = cell.value.replace('.', '')    # Excluindo o '.' pois também atrapalha a conversão para float\n",
    "    cell.value = cell.value.replace(',', '.')   # Trocando a vírgula por ponto para evitar problemas com string e float\n",
    "\n",
    "# Convertendo os preços para float (com exceção do cabeçalho)\n",
    "for cell in sheet_produtos['B'][1:]:\n",
    "  cell.value = float(cell.value)\n",
    "\n",
    "# Salvando a planilha\n",
    "database.save('database.xlsx')\n"
   ]
  },
  {
   "cell_type": "markdown",
   "metadata": {},
   "source": [
    "### STEP 4: Ploting the line chart for analysis"
   ]
  },
  {
   "cell_type": "code",
   "execution_count": 7,
   "metadata": {},
   "outputs": [
    {
     "data": {
      "application/vnd.plotly.v1+json": {
       "config": {
        "plotlyServerURL": "https://plot.ly"
       },
       "data": [
        {
         "customdata": [
          [
           "Monitor Gamer HQ 19.5 polegadas, Full HD, HDMI, VGA - 20G75FHD-B"
          ],
          [
           "Monitor Gamer LG 21.5 LED Full HD, 75Hz, 5ms, HDMI, FreeSync - 22MP410-B"
          ],
          [
           "Monitor Gamer Concordia, 23.8 Pol. LED Full HD, 165Hz, Freesync, HDMI E Display Port - R200s"
          ],
          [
           "Monitor Gamer Samsung 24 Full HD, 75Hz, IPS, HDMI E VGA, FreeSync, Preto - LF24T350FHLMZD"
          ],
          [
           "Monitor Gamer LG 23.8 Full HD, IPS, HDMI, VESA, FreeSync, Sem Bordas, Preto - 24MP400-B"
          ],
          [
           "Monitor Gamer Samsung 27Pol, Full HD, 75Hz, IPS, HDMI, Vesa, Freesync - Lf27t350fhlmzd"
          ],
          [
           "Monitor Gamer LG 26 IPS, Ultra Wide, 75Hz, Full HD, 1ms, FreeSync Premium, HDR 10, 99% sRGB, HDMI, VESA - 26WQ500"
          ],
          [
           "Monitor Gamer Husky Snow 23.6 LED Full HD, Curvo, 165Hz, 1ms, HDMI e DisplayPort, Adaptive Sync, Ajuste de Ângulo - HGMT000"
          ],
          [
           "Monitor Gamer Husky Storm 27' LED, Curvo, 165 Hz, Full HD, 1ms, Adaptive Sync, HDMI/DisplayPort, Ajuste de Ângulo - HGMT001"
          ],
          [
           "Monitor Gamer Acer QG240Y Nitro 23.8 Full HD, 180Hz, 1ms, HDMI e DisplayPort, 95% sRGB, HDR 10, FreeSync - UM.QQ0AA.304"
          ],
          [
           "Monitor Gamer AOC Hero 23.8 Full HD, Wide, 144 Hz, 1ms, FreeSync, HDMI e DisplayPort, IPS, Ajuste de Altura - 24G2/BK"
          ],
          [
           "Monitor Gamer Husky Blizzard 27' LED Full HD, 240Hz, 1ms, HDMI e DisplayPort, 96% sRGB, Adaptive Sync, Ajuste de Altura - HGMT006"
          ],
          [
           "Monitor Gamer LG UltraGear 24 Full HD, 144Hz, 1ms, IPS, HDMI e DisplayPort, 99% sRGB, HDR, FreeSync Premium, VESA - 24GN60R-B.AWZM"
          ],
          [
           "Monitor Gamer LG UltraGear 27 Full HD, 144Hz, 1ms, IPS, HDMI e DisplayPort, HDR 10, 99% sRGB, FreeSync Premium, VESA - 27GN65R"
          ],
          [
           "Monitor Gamer Husky Hailstorm 31.5' LED, Curvo, 165 Hz, Full HD, 1ms, Adaptive Sync, HDMI/DisplayPort, Ajuste de Ângulo - HGMT002"
          ],
          [
           "Monitor Gamer AOC Hero 27 Full HD, Wide, 144 Hz, 1ms, IPS, HDMI e VGA, G-Sync, Ajuste de Ângulo - 27G2/BK"
          ],
          [
           "Monitor Asus TUF Gaming 27 Full HD, 165Hz, 1ms, IPS, HDMI e DisplayPort, FreeSync Premium, VESA - VG279Q1A"
          ],
          [
           "Monitor Gamer LG UltraGear 32 LED, 165 Hz, QHD, 1ms, HDMI/DisplayPort, 95% sRGB, FreeSync Premium, HDR 10, VESA, Preto - 32GN600-B"
          ],
          [
           "Monitor Gamer LG UltraGear 27' IPS, Wide, 240 Hz, Full HD, 1ms, FreeSync Premium, HDR 10, 99% sRGB, HDMI/DisplayPort, VESA - 27GN750-B.AWZ"
          ],
          [
           "Monitor Gamer LG UltraGear LG 34\" Curvo LED WQHD, UltraWide, 160Hz, 1ms, DisplayPort e HDMI, AMD FreeSync Premium, HDR10, 99% sRGB - 34GP63A-B"
          ]
         ],
         "hovertemplate": "index=%{x}<br>PREÇO=%{y}<br>Produto=%{customdata[0]}<extra></extra>",
         "legendgroup": "",
         "line": {
          "color": "#636efa",
          "dash": "solid"
         },
         "marker": {
          "symbol": "circle"
         },
         "mode": "markers+lines",
         "name": "",
         "orientation": "v",
         "showlegend": false,
         "type": "scatter",
         "x": [
          0,
          1,
          2,
          3,
          4,
          5,
          6,
          7,
          8,
          9,
          10,
          11,
          12,
          13,
          14,
          15,
          16,
          17,
          18,
          19
         ],
         "xaxis": "x",
         "y": [
          296.1,
          479.99,
          584,
          591,
          659.99,
          727.9,
          729.99,
          799.99,
          899.99,
          959.99,
          988.99,
          1059.99,
          1089.99,
          1099.99,
          1099.99,
          1149.99,
          1219.99,
          1599.99,
          1789.99,
          2599.99
         ],
         "yaxis": "y"
        }
       ],
       "layout": {
        "legend": {
         "tracegroupgap": 0
        },
        "template": {
         "data": {
          "bar": [
           {
            "error_x": {
             "color": "#2a3f5f"
            },
            "error_y": {
             "color": "#2a3f5f"
            },
            "marker": {
             "line": {
              "color": "#E5ECF6",
              "width": 0.5
             },
             "pattern": {
              "fillmode": "overlay",
              "size": 10,
              "solidity": 0.2
             }
            },
            "type": "bar"
           }
          ],
          "barpolar": [
           {
            "marker": {
             "line": {
              "color": "#E5ECF6",
              "width": 0.5
             },
             "pattern": {
              "fillmode": "overlay",
              "size": 10,
              "solidity": 0.2
             }
            },
            "type": "barpolar"
           }
          ],
          "carpet": [
           {
            "aaxis": {
             "endlinecolor": "#2a3f5f",
             "gridcolor": "white",
             "linecolor": "white",
             "minorgridcolor": "white",
             "startlinecolor": "#2a3f5f"
            },
            "baxis": {
             "endlinecolor": "#2a3f5f",
             "gridcolor": "white",
             "linecolor": "white",
             "minorgridcolor": "white",
             "startlinecolor": "#2a3f5f"
            },
            "type": "carpet"
           }
          ],
          "choropleth": [
           {
            "colorbar": {
             "outlinewidth": 0,
             "ticks": ""
            },
            "type": "choropleth"
           }
          ],
          "contour": [
           {
            "colorbar": {
             "outlinewidth": 0,
             "ticks": ""
            },
            "colorscale": [
             [
              0,
              "#0d0887"
             ],
             [
              0.1111111111111111,
              "#46039f"
             ],
             [
              0.2222222222222222,
              "#7201a8"
             ],
             [
              0.3333333333333333,
              "#9c179e"
             ],
             [
              0.4444444444444444,
              "#bd3786"
             ],
             [
              0.5555555555555556,
              "#d8576b"
             ],
             [
              0.6666666666666666,
              "#ed7953"
             ],
             [
              0.7777777777777778,
              "#fb9f3a"
             ],
             [
              0.8888888888888888,
              "#fdca26"
             ],
             [
              1,
              "#f0f921"
             ]
            ],
            "type": "contour"
           }
          ],
          "contourcarpet": [
           {
            "colorbar": {
             "outlinewidth": 0,
             "ticks": ""
            },
            "type": "contourcarpet"
           }
          ],
          "heatmap": [
           {
            "colorbar": {
             "outlinewidth": 0,
             "ticks": ""
            },
            "colorscale": [
             [
              0,
              "#0d0887"
             ],
             [
              0.1111111111111111,
              "#46039f"
             ],
             [
              0.2222222222222222,
              "#7201a8"
             ],
             [
              0.3333333333333333,
              "#9c179e"
             ],
             [
              0.4444444444444444,
              "#bd3786"
             ],
             [
              0.5555555555555556,
              "#d8576b"
             ],
             [
              0.6666666666666666,
              "#ed7953"
             ],
             [
              0.7777777777777778,
              "#fb9f3a"
             ],
             [
              0.8888888888888888,
              "#fdca26"
             ],
             [
              1,
              "#f0f921"
             ]
            ],
            "type": "heatmap"
           }
          ],
          "heatmapgl": [
           {
            "colorbar": {
             "outlinewidth": 0,
             "ticks": ""
            },
            "colorscale": [
             [
              0,
              "#0d0887"
             ],
             [
              0.1111111111111111,
              "#46039f"
             ],
             [
              0.2222222222222222,
              "#7201a8"
             ],
             [
              0.3333333333333333,
              "#9c179e"
             ],
             [
              0.4444444444444444,
              "#bd3786"
             ],
             [
              0.5555555555555556,
              "#d8576b"
             ],
             [
              0.6666666666666666,
              "#ed7953"
             ],
             [
              0.7777777777777778,
              "#fb9f3a"
             ],
             [
              0.8888888888888888,
              "#fdca26"
             ],
             [
              1,
              "#f0f921"
             ]
            ],
            "type": "heatmapgl"
           }
          ],
          "histogram": [
           {
            "marker": {
             "pattern": {
              "fillmode": "overlay",
              "size": 10,
              "solidity": 0.2
             }
            },
            "type": "histogram"
           }
          ],
          "histogram2d": [
           {
            "colorbar": {
             "outlinewidth": 0,
             "ticks": ""
            },
            "colorscale": [
             [
              0,
              "#0d0887"
             ],
             [
              0.1111111111111111,
              "#46039f"
             ],
             [
              0.2222222222222222,
              "#7201a8"
             ],
             [
              0.3333333333333333,
              "#9c179e"
             ],
             [
              0.4444444444444444,
              "#bd3786"
             ],
             [
              0.5555555555555556,
              "#d8576b"
             ],
             [
              0.6666666666666666,
              "#ed7953"
             ],
             [
              0.7777777777777778,
              "#fb9f3a"
             ],
             [
              0.8888888888888888,
              "#fdca26"
             ],
             [
              1,
              "#f0f921"
             ]
            ],
            "type": "histogram2d"
           }
          ],
          "histogram2dcontour": [
           {
            "colorbar": {
             "outlinewidth": 0,
             "ticks": ""
            },
            "colorscale": [
             [
              0,
              "#0d0887"
             ],
             [
              0.1111111111111111,
              "#46039f"
             ],
             [
              0.2222222222222222,
              "#7201a8"
             ],
             [
              0.3333333333333333,
              "#9c179e"
             ],
             [
              0.4444444444444444,
              "#bd3786"
             ],
             [
              0.5555555555555556,
              "#d8576b"
             ],
             [
              0.6666666666666666,
              "#ed7953"
             ],
             [
              0.7777777777777778,
              "#fb9f3a"
             ],
             [
              0.8888888888888888,
              "#fdca26"
             ],
             [
              1,
              "#f0f921"
             ]
            ],
            "type": "histogram2dcontour"
           }
          ],
          "mesh3d": [
           {
            "colorbar": {
             "outlinewidth": 0,
             "ticks": ""
            },
            "type": "mesh3d"
           }
          ],
          "parcoords": [
           {
            "line": {
             "colorbar": {
              "outlinewidth": 0,
              "ticks": ""
             }
            },
            "type": "parcoords"
           }
          ],
          "pie": [
           {
            "automargin": true,
            "type": "pie"
           }
          ],
          "scatter": [
           {
            "fillpattern": {
             "fillmode": "overlay",
             "size": 10,
             "solidity": 0.2
            },
            "type": "scatter"
           }
          ],
          "scatter3d": [
           {
            "line": {
             "colorbar": {
              "outlinewidth": 0,
              "ticks": ""
             }
            },
            "marker": {
             "colorbar": {
              "outlinewidth": 0,
              "ticks": ""
             }
            },
            "type": "scatter3d"
           }
          ],
          "scattercarpet": [
           {
            "marker": {
             "colorbar": {
              "outlinewidth": 0,
              "ticks": ""
             }
            },
            "type": "scattercarpet"
           }
          ],
          "scattergeo": [
           {
            "marker": {
             "colorbar": {
              "outlinewidth": 0,
              "ticks": ""
             }
            },
            "type": "scattergeo"
           }
          ],
          "scattergl": [
           {
            "marker": {
             "colorbar": {
              "outlinewidth": 0,
              "ticks": ""
             }
            },
            "type": "scattergl"
           }
          ],
          "scattermapbox": [
           {
            "marker": {
             "colorbar": {
              "outlinewidth": 0,
              "ticks": ""
             }
            },
            "type": "scattermapbox"
           }
          ],
          "scatterpolar": [
           {
            "marker": {
             "colorbar": {
              "outlinewidth": 0,
              "ticks": ""
             }
            },
            "type": "scatterpolar"
           }
          ],
          "scatterpolargl": [
           {
            "marker": {
             "colorbar": {
              "outlinewidth": 0,
              "ticks": ""
             }
            },
            "type": "scatterpolargl"
           }
          ],
          "scatterternary": [
           {
            "marker": {
             "colorbar": {
              "outlinewidth": 0,
              "ticks": ""
             }
            },
            "type": "scatterternary"
           }
          ],
          "surface": [
           {
            "colorbar": {
             "outlinewidth": 0,
             "ticks": ""
            },
            "colorscale": [
             [
              0,
              "#0d0887"
             ],
             [
              0.1111111111111111,
              "#46039f"
             ],
             [
              0.2222222222222222,
              "#7201a8"
             ],
             [
              0.3333333333333333,
              "#9c179e"
             ],
             [
              0.4444444444444444,
              "#bd3786"
             ],
             [
              0.5555555555555556,
              "#d8576b"
             ],
             [
              0.6666666666666666,
              "#ed7953"
             ],
             [
              0.7777777777777778,
              "#fb9f3a"
             ],
             [
              0.8888888888888888,
              "#fdca26"
             ],
             [
              1,
              "#f0f921"
             ]
            ],
            "type": "surface"
           }
          ],
          "table": [
           {
            "cells": {
             "fill": {
              "color": "#EBF0F8"
             },
             "line": {
              "color": "white"
             }
            },
            "header": {
             "fill": {
              "color": "#C8D4E3"
             },
             "line": {
              "color": "white"
             }
            },
            "type": "table"
           }
          ]
         },
         "layout": {
          "annotationdefaults": {
           "arrowcolor": "#2a3f5f",
           "arrowhead": 0,
           "arrowwidth": 1
          },
          "autotypenumbers": "strict",
          "coloraxis": {
           "colorbar": {
            "outlinewidth": 0,
            "ticks": ""
           }
          },
          "colorscale": {
           "diverging": [
            [
             0,
             "#8e0152"
            ],
            [
             0.1,
             "#c51b7d"
            ],
            [
             0.2,
             "#de77ae"
            ],
            [
             0.3,
             "#f1b6da"
            ],
            [
             0.4,
             "#fde0ef"
            ],
            [
             0.5,
             "#f7f7f7"
            ],
            [
             0.6,
             "#e6f5d0"
            ],
            [
             0.7,
             "#b8e186"
            ],
            [
             0.8,
             "#7fbc41"
            ],
            [
             0.9,
             "#4d9221"
            ],
            [
             1,
             "#276419"
            ]
           ],
           "sequential": [
            [
             0,
             "#0d0887"
            ],
            [
             0.1111111111111111,
             "#46039f"
            ],
            [
             0.2222222222222222,
             "#7201a8"
            ],
            [
             0.3333333333333333,
             "#9c179e"
            ],
            [
             0.4444444444444444,
             "#bd3786"
            ],
            [
             0.5555555555555556,
             "#d8576b"
            ],
            [
             0.6666666666666666,
             "#ed7953"
            ],
            [
             0.7777777777777778,
             "#fb9f3a"
            ],
            [
             0.8888888888888888,
             "#fdca26"
            ],
            [
             1,
             "#f0f921"
            ]
           ],
           "sequentialminus": [
            [
             0,
             "#0d0887"
            ],
            [
             0.1111111111111111,
             "#46039f"
            ],
            [
             0.2222222222222222,
             "#7201a8"
            ],
            [
             0.3333333333333333,
             "#9c179e"
            ],
            [
             0.4444444444444444,
             "#bd3786"
            ],
            [
             0.5555555555555556,
             "#d8576b"
            ],
            [
             0.6666666666666666,
             "#ed7953"
            ],
            [
             0.7777777777777778,
             "#fb9f3a"
            ],
            [
             0.8888888888888888,
             "#fdca26"
            ],
            [
             1,
             "#f0f921"
            ]
           ]
          },
          "colorway": [
           "#636efa",
           "#EF553B",
           "#00cc96",
           "#ab63fa",
           "#FFA15A",
           "#19d3f3",
           "#FF6692",
           "#B6E880",
           "#FF97FF",
           "#FECB52"
          ],
          "font": {
           "color": "#2a3f5f"
          },
          "geo": {
           "bgcolor": "white",
           "lakecolor": "white",
           "landcolor": "#E5ECF6",
           "showlakes": true,
           "showland": true,
           "subunitcolor": "white"
          },
          "hoverlabel": {
           "align": "left"
          },
          "hovermode": "closest",
          "mapbox": {
           "style": "light"
          },
          "paper_bgcolor": "white",
          "plot_bgcolor": "#E5ECF6",
          "polar": {
           "angularaxis": {
            "gridcolor": "white",
            "linecolor": "white",
            "ticks": ""
           },
           "bgcolor": "#E5ECF6",
           "radialaxis": {
            "gridcolor": "white",
            "linecolor": "white",
            "ticks": ""
           }
          },
          "scene": {
           "xaxis": {
            "backgroundcolor": "#E5ECF6",
            "gridcolor": "white",
            "gridwidth": 2,
            "linecolor": "white",
            "showbackground": true,
            "ticks": "",
            "zerolinecolor": "white"
           },
           "yaxis": {
            "backgroundcolor": "#E5ECF6",
            "gridcolor": "white",
            "gridwidth": 2,
            "linecolor": "white",
            "showbackground": true,
            "ticks": "",
            "zerolinecolor": "white"
           },
           "zaxis": {
            "backgroundcolor": "#E5ECF6",
            "gridcolor": "white",
            "gridwidth": 2,
            "linecolor": "white",
            "showbackground": true,
            "ticks": "",
            "zerolinecolor": "white"
           }
          },
          "shapedefaults": {
           "line": {
            "color": "#2a3f5f"
           }
          },
          "ternary": {
           "aaxis": {
            "gridcolor": "white",
            "linecolor": "white",
            "ticks": ""
           },
           "baxis": {
            "gridcolor": "white",
            "linecolor": "white",
            "ticks": ""
           },
           "bgcolor": "#E5ECF6",
           "caxis": {
            "gridcolor": "white",
            "linecolor": "white",
            "ticks": ""
           }
          },
          "title": {
           "x": 0.05
          },
          "xaxis": {
           "automargin": true,
           "gridcolor": "white",
           "linecolor": "white",
           "ticks": "",
           "title": {
            "standoff": 15
           },
           "zerolinecolor": "white",
           "zerolinewidth": 2
          },
          "yaxis": {
           "automargin": true,
           "gridcolor": "white",
           "linecolor": "white",
           "ticks": "",
           "title": {
            "standoff": 15
           },
           "zerolinecolor": "white",
           "zerolinewidth": 2
          }
         }
        },
        "title": {
         "text": "BENCHMARK DE PREÇOS DE MONITORES GAMER - KABUM"
        },
        "xaxis": {
         "anchor": "y",
         "domain": [
          0,
          1
         ],
         "title": {
          "text": "index"
         }
        },
        "yaxis": {
         "anchor": "x",
         "domain": [
          0,
          1
         ],
         "title": {
          "text": "PREÇO"
         }
        }
       }
      }
     },
     "metadata": {},
     "output_type": "display_data"
    }
   ],
   "source": [
    "# ----------------------------------------------- ABRINDO A PLANILHA ----------------------------------------------- #\n",
    "\n",
    "# Abrindo a planilha\n",
    "database = openpyxl.load_workbook('database.xlsx')\n",
    "\n",
    "# Acessando a página 'produtos'\n",
    "sheet_produtos = database['produtos']\n",
    "\n",
    "# ---------------------------------------- ORDENANDO OS DADOS PARA O GRÁFICO ---------------------------------------- #\n",
    "\n",
    "# Criando uma lista para armazenar os produtos (nome, preço)\n",
    "produtos = []\n",
    "\n",
    "# Inserindo os produtos na lista (OBS.: zip() é uma função que permite iterar sobre duas listas ao mesmo tempo)\n",
    "for title, price in zip(sheet_produtos['A'][1:], sheet_produtos['B'][1:]):\n",
    "  produtos.append([title.value, price.value])\n",
    "\n",
    "# Ordenando a lista de produtos pelo preço (crescente)\n",
    "produtos.sort(key=lambda produto: produto[1]) # key = lambda é um parâmetro que permite ordenar a lista por um valor específico, nesse caso o preço\n",
    " \n",
    "# exibindo a lista de produtos com quebra de linha\n",
    "#for produto in produtos:\n",
    "# print(produto[0], produto[1], '\\n')\n",
    "\n",
    "# -------------------------------------------------- GERANDO O GRÁFICO -------------------------------------------------- #\n",
    "\n",
    "# Criando um dataframe com os dados da lista de produtos\n",
    "df = pd.DataFrame(produtos, columns=['Produto', 'Preço Promocional'])\n",
    "\n",
    "# Gerando o gráfico de linhas\n",
    "fig = px.line(\n",
    "    df, \n",
    "    x = df.index,\n",
    "    y = 'Preço Promocional',\n",
    "    labels={'x': 'PRODUTO', 'Preço Promocional': 'PREÇO'},\n",
    "    hover_data=['Produto'],\n",
    "    markers=True,\n",
    "    #color = 'Produto',\n",
    "    title = 'BENCHMARK DE PREÇOS DE MONITORES GAMER - KABUM',\n",
    ")\n",
    "\n",
    "fig.show()\n"
   ]
  }
 ],
 "metadata": {
  "kernelspec": {
   "display_name": "Python 3",
   "language": "python",
   "name": "python3"
  },
  "language_info": {
   "codemirror_mode": {
    "name": "ipython",
    "version": 3
   },
   "file_extension": ".py",
   "mimetype": "text/x-python",
   "name": "python",
   "nbconvert_exporter": "python",
   "pygments_lexer": "ipython3",
   "version": "3.10.12"
  }
 },
 "nbformat": 4,
 "nbformat_minor": 2
}
